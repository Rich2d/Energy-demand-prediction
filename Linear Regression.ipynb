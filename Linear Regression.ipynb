{
 "cells": [
  {
   "cell_type": "code",
   "execution_count": 28,
   "metadata": {},
   "outputs": [],
   "source": [
    "import pandas as pd  \n",
    "import numpy as np  \n",
    "import matplotlib.pyplot as plt  \n",
    "import seaborn as seabornInstance \n",
    "from sklearn.model_selection import train_test_split \n",
    "from sklearn.linear_model import LinearRegression\n",
    "from sklearn import metrics\n",
    "\n",
    "%matplotlib inline\n",
    "\n",
    "merge = pd.read_csv('mergedML_detail.csv')"
   ]
  },
  {
   "cell_type": "code",
   "execution_count": 29,
   "metadata": {},
   "outputs": [],
   "source": [
    "def mean_absolute_percentage_error(y_test, y_pred):\n",
    " y_test, y_pred = np.array(y_test), np.array(y_pred)\n",
    " return np.mean(np.abs((y_test - y_pred) / y_test)) * 100"
   ]
  },
  {
   "cell_type": "code",
   "execution_count": 30,
   "metadata": {},
   "outputs": [
    {
     "name": "stdout",
     "output_type": "stream",
     "text": [
      "<class 'pandas.core.frame.DataFrame'>\n",
      "RangeIndex: 32505 entries, 0 to 32504\n",
      "Data columns (total 11 columns):\n",
      " #   Column             Non-Null Count  Dtype  \n",
      "---  ------             --------------  -----  \n",
      " 0   Unnamed: 0         32505 non-null  int64  \n",
      " 1   time               32505 non-null  object \n",
      " 2   Day of week        32505 non-null  int64  \n",
      " 3   Hours              32505 non-null  int64  \n",
      " 4   DATE               32505 non-null  object \n",
      " 5   Week_num           32505 non-null  int64  \n",
      " 6   temp               32505 non-null  float64\n",
      " 7   humidity           32505 non-null  float64\n",
      " 8   wind_speed         32505 non-null  float64\n",
      " 9   total load actual  32505 non-null  float64\n",
      " 10  Day_num            32505 non-null  int64  \n",
      "dtypes: float64(4), int64(5), object(2)\n",
      "memory usage: 2.7+ MB\n",
      "None\n"
     ]
    }
   ],
   "source": [
    "print(merge.info())"
   ]
  },
  {
   "cell_type": "code",
   "execution_count": 31,
   "metadata": {},
   "outputs": [
    {
     "data": {
      "text/html": [
       "<div>\n",
       "<style scoped>\n",
       "    .dataframe tbody tr th:only-of-type {\n",
       "        vertical-align: middle;\n",
       "    }\n",
       "\n",
       "    .dataframe tbody tr th {\n",
       "        vertical-align: top;\n",
       "    }\n",
       "\n",
       "    .dataframe thead th {\n",
       "        text-align: right;\n",
       "    }\n",
       "</style>\n",
       "<table border=\"1\" class=\"dataframe\">\n",
       "  <thead>\n",
       "    <tr style=\"text-align: right;\">\n",
       "      <th></th>\n",
       "      <th>Unnamed: 0</th>\n",
       "      <th>time</th>\n",
       "      <th>Day of week</th>\n",
       "      <th>Hours</th>\n",
       "      <th>DATE</th>\n",
       "      <th>Week_num</th>\n",
       "      <th>temp</th>\n",
       "      <th>humidity</th>\n",
       "      <th>wind_speed</th>\n",
       "      <th>total load actual</th>\n",
       "      <th>Day_num</th>\n",
       "    </tr>\n",
       "  </thead>\n",
       "  <tbody>\n",
       "    <tr>\n",
       "      <th>0</th>\n",
       "      <td>0</td>\n",
       "      <td>2015/1/1 0:00</td>\n",
       "      <td>5</td>\n",
       "      <td>1</td>\n",
       "      <td>2015/1/1</td>\n",
       "      <td>1</td>\n",
       "      <td>272.965776</td>\n",
       "      <td>79.798764</td>\n",
       "      <td>2.833795</td>\n",
       "      <td>25385.0</td>\n",
       "      <td>1</td>\n",
       "    </tr>\n",
       "    <tr>\n",
       "      <th>1</th>\n",
       "      <td>1</td>\n",
       "      <td>2015/1/1 1:00</td>\n",
       "      <td>5</td>\n",
       "      <td>2</td>\n",
       "      <td>2015/1/1</td>\n",
       "      <td>1</td>\n",
       "      <td>272.972129</td>\n",
       "      <td>79.798764</td>\n",
       "      <td>2.833795</td>\n",
       "      <td>24382.0</td>\n",
       "      <td>1</td>\n",
       "    </tr>\n",
       "    <tr>\n",
       "      <th>2</th>\n",
       "      <td>2</td>\n",
       "      <td>2015/1/1 2:00</td>\n",
       "      <td>5</td>\n",
       "      <td>3</td>\n",
       "      <td>2015/1/1</td>\n",
       "      <td>1</td>\n",
       "      <td>272.336108</td>\n",
       "      <td>79.985291</td>\n",
       "      <td>2.923426</td>\n",
       "      <td>22734.0</td>\n",
       "      <td>1</td>\n",
       "    </tr>\n",
       "    <tr>\n",
       "      <th>3</th>\n",
       "      <td>3</td>\n",
       "      <td>2015/1/1 3:00</td>\n",
       "      <td>5</td>\n",
       "      <td>4</td>\n",
       "      <td>2015/1/1</td>\n",
       "      <td>1</td>\n",
       "      <td>272.333215</td>\n",
       "      <td>79.985291</td>\n",
       "      <td>2.923426</td>\n",
       "      <td>21286.0</td>\n",
       "      <td>1</td>\n",
       "    </tr>\n",
       "    <tr>\n",
       "      <th>4</th>\n",
       "      <td>4</td>\n",
       "      <td>2015/1/1 4:00</td>\n",
       "      <td>5</td>\n",
       "      <td>5</td>\n",
       "      <td>2015/1/1</td>\n",
       "      <td>1</td>\n",
       "      <td>272.350097</td>\n",
       "      <td>79.985291</td>\n",
       "      <td>2.923426</td>\n",
       "      <td>20264.0</td>\n",
       "      <td>1</td>\n",
       "    </tr>\n",
       "  </tbody>\n",
       "</table>\n",
       "</div>"
      ],
      "text/plain": [
       "   Unnamed: 0           time  Day of week  Hours      DATE  Week_num  \\\n",
       "0           0  2015/1/1 0:00            5      1  2015/1/1         1   \n",
       "1           1  2015/1/1 1:00            5      2  2015/1/1         1   \n",
       "2           2  2015/1/1 2:00            5      3  2015/1/1         1   \n",
       "3           3  2015/1/1 3:00            5      4  2015/1/1         1   \n",
       "4           4  2015/1/1 4:00            5      5  2015/1/1         1   \n",
       "\n",
       "         temp   humidity  wind_speed  total load actual  Day_num  \n",
       "0  272.965776  79.798764    2.833795            25385.0        1  \n",
       "1  272.972129  79.798764    2.833795            24382.0        1  \n",
       "2  272.336108  79.985291    2.923426            22734.0        1  \n",
       "3  272.333215  79.985291    2.923426            21286.0        1  \n",
       "4  272.350097  79.985291    2.923426            20264.0        1  "
      ]
     },
     "execution_count": 31,
     "metadata": {},
     "output_type": "execute_result"
    }
   ],
   "source": [
    "merge.head(5)"
   ]
  },
  {
   "cell_type": "code",
   "execution_count": 27,
   "metadata": {},
   "outputs": [
    {
     "data": {
      "text/html": [
       "<div>\n",
       "<style scoped>\n",
       "    .dataframe tbody tr th:only-of-type {\n",
       "        vertical-align: middle;\n",
       "    }\n",
       "\n",
       "    .dataframe tbody tr th {\n",
       "        vertical-align: top;\n",
       "    }\n",
       "\n",
       "    .dataframe thead th {\n",
       "        text-align: right;\n",
       "    }\n",
       "</style>\n",
       "<table border=\"1\" class=\"dataframe\">\n",
       "  <thead>\n",
       "    <tr style=\"text-align: right;\">\n",
       "      <th></th>\n",
       "      <th>temp</th>\n",
       "      <th>humidity</th>\n",
       "      <th>wind_speed</th>\n",
       "      <th>total load actual</th>\n",
       "    </tr>\n",
       "  </thead>\n",
       "  <tbody>\n",
       "    <tr>\n",
       "      <th>count</th>\n",
       "      <td>32505.000000</td>\n",
       "      <td>32505.000000</td>\n",
       "      <td>32505.000000</td>\n",
       "      <td>32505.000000</td>\n",
       "    </tr>\n",
       "    <tr>\n",
       "      <th>mean</th>\n",
       "      <td>289.722152</td>\n",
       "      <td>65.216863</td>\n",
       "      <td>2.548502</td>\n",
       "      <td>28673.299149</td>\n",
       "    </tr>\n",
       "    <tr>\n",
       "      <th>std</th>\n",
       "      <td>7.686057</td>\n",
       "      <td>16.197695</td>\n",
       "      <td>1.434283</td>\n",
       "      <td>4554.753611</td>\n",
       "    </tr>\n",
       "    <tr>\n",
       "      <th>min</th>\n",
       "      <td>270.791474</td>\n",
       "      <td>18.747346</td>\n",
       "      <td>0.000000</td>\n",
       "      <td>18041.000000</td>\n",
       "    </tr>\n",
       "    <tr>\n",
       "      <th>25%</th>\n",
       "      <td>283.772991</td>\n",
       "      <td>52.657506</td>\n",
       "      <td>1.497465</td>\n",
       "      <td>24815.000000</td>\n",
       "    </tr>\n",
       "    <tr>\n",
       "      <th>50%</th>\n",
       "      <td>288.984182</td>\n",
       "      <td>65.788629</td>\n",
       "      <td>2.228635</td>\n",
       "      <td>28855.000000</td>\n",
       "    </tr>\n",
       "    <tr>\n",
       "      <th>75%</th>\n",
       "      <td>295.490346</td>\n",
       "      <td>78.125088</td>\n",
       "      <td>3.252363</td>\n",
       "      <td>32152.000000</td>\n",
       "    </tr>\n",
       "    <tr>\n",
       "      <th>max</th>\n",
       "      <td>309.741549</td>\n",
       "      <td>99.581176</td>\n",
       "      <td>22.786209</td>\n",
       "      <td>41015.000000</td>\n",
       "    </tr>\n",
       "  </tbody>\n",
       "</table>\n",
       "</div>"
      ],
      "text/plain": [
       "               temp      humidity    wind_speed  total load actual\n",
       "count  32505.000000  32505.000000  32505.000000       32505.000000\n",
       "mean     289.722152     65.216863      2.548502       28673.299149\n",
       "std        7.686057     16.197695      1.434283        4554.753611\n",
       "min      270.791474     18.747346      0.000000       18041.000000\n",
       "25%      283.772991     52.657506      1.497465       24815.000000\n",
       "50%      288.984182     65.788629      2.228635       28855.000000\n",
       "75%      295.490346     78.125088      3.252363       32152.000000\n",
       "max      309.741549     99.581176     22.786209       41015.000000"
      ]
     },
     "execution_count": 27,
     "metadata": {},
     "output_type": "execute_result"
    }
   ],
   "source": [
    "merge.iloc[: , [2,3,4,5]].describe()"
   ]
  },
  {
   "cell_type": "markdown",
   "metadata": {},
   "source": [
    "# Simple linear Regression"
   ]
  },
  {
   "cell_type": "markdown",
   "metadata": {},
   "source": [
    "Predict the total load only based on hours (independent variables)"
   ]
  },
  {
   "cell_type": "code",
   "execution_count": 15,
   "metadata": {},
   "outputs": [],
   "source": [
    "X = merge.iloc[: , 3].values.reshape(-1,1)\n",
    "y = merge.iloc[: , 9].values.reshape(-1,1)"
   ]
  },
  {
   "cell_type": "markdown",
   "metadata": {},
   "source": [
    "Split 80% of the dataset to training set and 20% to test set"
   ]
  },
  {
   "cell_type": "code",
   "execution_count": 16,
   "metadata": {},
   "outputs": [],
   "source": [
    "X_train, X_test, y_train, y_test = train_test_split(X, y, test_size=0.2, random_state=0)"
   ]
  },
  {
   "cell_type": "markdown",
   "metadata": {},
   "source": [
    "Taining the model"
   ]
  },
  {
   "cell_type": "code",
   "execution_count": 17,
   "metadata": {},
   "outputs": [
    {
     "data": {
      "text/plain": [
       "LinearRegression(copy_X=True, fit_intercept=True, n_jobs=None, normalize=False)"
      ]
     },
     "execution_count": 17,
     "metadata": {},
     "output_type": "execute_result"
    }
   ],
   "source": [
    "regressor = LinearRegression()  \n",
    "regressor.fit(X_train, y_train)"
   ]
  },
  {
   "cell_type": "code",
   "execution_count": 18,
   "metadata": {},
   "outputs": [
    {
     "name": "stdout",
     "output_type": "stream",
     "text": [
      "[24454.59342358]\n",
      "[[365.48615883]]\n"
     ]
    }
   ],
   "source": [
    "print(regressor.intercept_)\n",
    "print(regressor.coef_)"
   ]
  },
  {
   "cell_type": "markdown",
   "metadata": {},
   "source": [
    "Predict on test data"
   ]
  },
  {
   "cell_type": "code",
   "execution_count": 19,
   "metadata": {},
   "outputs": [],
   "source": [
    "y_pred = regressor.predict(X_test)"
   ]
  },
  {
   "cell_type": "code",
   "execution_count": 20,
   "metadata": {},
   "outputs": [
    {
     "data": {
      "text/html": [
       "<div>\n",
       "<style scoped>\n",
       "    .dataframe tbody tr th:only-of-type {\n",
       "        vertical-align: middle;\n",
       "    }\n",
       "\n",
       "    .dataframe tbody tr th {\n",
       "        vertical-align: top;\n",
       "    }\n",
       "\n",
       "    .dataframe thead th {\n",
       "        text-align: right;\n",
       "    }\n",
       "</style>\n",
       "<table border=\"1\" class=\"dataframe\">\n",
       "  <thead>\n",
       "    <tr style=\"text-align: right;\">\n",
       "      <th></th>\n",
       "      <th>Actual</th>\n",
       "      <th>Predicted</th>\n",
       "    </tr>\n",
       "  </thead>\n",
       "  <tbody>\n",
       "    <tr>\n",
       "      <th>0</th>\n",
       "      <td>29116.0</td>\n",
       "      <td>29936.885806</td>\n",
       "    </tr>\n",
       "    <tr>\n",
       "      <th>1</th>\n",
       "      <td>20520.0</td>\n",
       "      <td>26282.024218</td>\n",
       "    </tr>\n",
       "    <tr>\n",
       "      <th>2</th>\n",
       "      <td>36698.0</td>\n",
       "      <td>31764.316600</td>\n",
       "    </tr>\n",
       "    <tr>\n",
       "      <th>3</th>\n",
       "      <td>31592.0</td>\n",
       "      <td>32495.288918</td>\n",
       "    </tr>\n",
       "    <tr>\n",
       "      <th>4</th>\n",
       "      <td>25727.0</td>\n",
       "      <td>25551.051900</td>\n",
       "    </tr>\n",
       "    <tr>\n",
       "      <th>...</th>\n",
       "      <td>...</td>\n",
       "      <td>...</td>\n",
       "    </tr>\n",
       "    <tr>\n",
       "      <th>6496</th>\n",
       "      <td>27480.0</td>\n",
       "      <td>27012.996535</td>\n",
       "    </tr>\n",
       "    <tr>\n",
       "      <th>6497</th>\n",
       "      <td>26022.0</td>\n",
       "      <td>27743.968853</td>\n",
       "    </tr>\n",
       "    <tr>\n",
       "      <th>6498</th>\n",
       "      <td>25566.0</td>\n",
       "      <td>26647.510377</td>\n",
       "    </tr>\n",
       "    <tr>\n",
       "      <th>6499</th>\n",
       "      <td>35328.0</td>\n",
       "      <td>29571.399647</td>\n",
       "    </tr>\n",
       "    <tr>\n",
       "      <th>6500</th>\n",
       "      <td>31348.0</td>\n",
       "      <td>29936.885806</td>\n",
       "    </tr>\n",
       "  </tbody>\n",
       "</table>\n",
       "<p>6501 rows × 2 columns</p>\n",
       "</div>"
      ],
      "text/plain": [
       "       Actual     Predicted\n",
       "0     29116.0  29936.885806\n",
       "1     20520.0  26282.024218\n",
       "2     36698.0  31764.316600\n",
       "3     31592.0  32495.288918\n",
       "4     25727.0  25551.051900\n",
       "...       ...           ...\n",
       "6496  27480.0  27012.996535\n",
       "6497  26022.0  27743.968853\n",
       "6498  25566.0  26647.510377\n",
       "6499  35328.0  29571.399647\n",
       "6500  31348.0  29936.885806\n",
       "\n",
       "[6501 rows x 2 columns]"
      ]
     },
     "execution_count": 20,
     "metadata": {},
     "output_type": "execute_result"
    }
   ],
   "source": [
    "df = pd.DataFrame({'Actual': y_test.flatten(), 'Predicted': y_pred.flatten()})\n",
    "df"
   ]
  },
  {
   "cell_type": "markdown",
   "metadata": {},
   "source": [
    "As we can see through the plot, the algorithm is not accurate."
   ]
  },
  {
   "cell_type": "code",
   "execution_count": 21,
   "metadata": {},
   "outputs": [
    {
     "data": {
      "image/png": "[encoded data removed]",
      "text/plain": [
       "<Figure size 432x288 with 1 Axes>"
      ]
     },
     "metadata": {
      "needs_background": "light"
     },
     "output_type": "display_data"
    }
   ],
   "source": [
    "plt.scatter(X_test, y_test,  color='gray')\n",
    "plt.plot(X_test, y_pred, color='red', linewidth=2)\n",
    "plt.show()"
   ]
  },
  {
   "cell_type": "code",
   "execution_count": 22,
   "metadata": {},
   "outputs": [
    {
     "name": "stdout",
     "output_type": "stream",
     "text": [
      "Mean Absolute Error: 3106.362194032686\n",
      "Mean Squared Error: 14161288.16606946\n",
      "Root Mean Squared Error: 3763.1487036881044\n",
      "Mean Absolute Percentage Error 11.138212520375902\n"
     ]
    }
   ],
   "source": [
    "print('Mean Absolute Error:', metrics.mean_absolute_error(y_test, y_pred))  \n",
    "print('Mean Squared Error:', metrics.mean_squared_error(y_test, y_pred))  \n",
    "print('Root Mean Squared Error:', np.sqrt(metrics.mean_squared_error(y_test, y_pred)))\n",
    "print('Mean Absolute Percentage Error', mean_absolute_percentage_error(y_test, y_pred))"
   ]
  },
  {
   "cell_type": "markdown",
   "metadata": {},
   "source": [
    "Even though the MAPE is 11.13%, statistically,it is not a bad result.However,looking at the plot, there are lots of prediction are way off. Simple linear regression is not a good choice in this case, since there are some many factor could influence the result."
   ]
  },
  {
   "cell_type": "markdown",
   "metadata": {},
   "source": [
    "# Multiple Linear Regression"
   ]
  },
  {
   "cell_type": "markdown",
   "metadata": {},
   "source": [
    "* \"temp\", \"humidity\" and \"wind_speed\" are all independent variables, \"Total load actual as dependent variable\""
   ]
  },
  {
   "cell_type": "code",
   "execution_count": 23,
   "metadata": {},
   "outputs": [
    {
     "name": "stdout",
     "output_type": "stream",
     "text": [
      "36217.26908994601\n",
      "[151.80009342 331.34480956 -29.00677234 -47.53271339 -77.70168353\n",
      "  -1.49304113]\n"
     ]
    }
   ],
   "source": [
    "X = merge.iloc[: , [2,3,6,7,8,10]].values\n",
    "y = merge.iloc[: , 9].values\n",
    "\n",
    "X_train, X_test, y_train, y_test = train_test_split(X, y, test_size = 0.2, random_state = 0)\n",
    "\n",
    "regressor = LinearRegression()  \n",
    "regressor.fit(X_train, y_train)\n",
    "\n",
    "print(regressor.intercept_)\n",
    "print(regressor.coef_)\n"
   ]
  },
  {
   "cell_type": "code",
   "execution_count": 24,
   "metadata": {},
   "outputs": [
    {
     "data": {
      "text/html": [
       "<div>\n",
       "<style scoped>\n",
       "    .dataframe tbody tr th:only-of-type {\n",
       "        vertical-align: middle;\n",
       "    }\n",
       "\n",
       "    .dataframe tbody tr th {\n",
       "        vertical-align: top;\n",
       "    }\n",
       "\n",
       "    .dataframe thead th {\n",
       "        text-align: right;\n",
       "    }\n",
       "</style>\n",
       "<table border=\"1\" class=\"dataframe\">\n",
       "  <thead>\n",
       "    <tr style=\"text-align: right;\">\n",
       "      <th></th>\n",
       "      <th>Actual</th>\n",
       "      <th>Predicted</th>\n",
       "    </tr>\n",
       "  </thead>\n",
       "  <tbody>\n",
       "    <tr>\n",
       "      <th>0</th>\n",
       "      <td>29116.0</td>\n",
       "      <td>31069.196197</td>\n",
       "    </tr>\n",
       "    <tr>\n",
       "      <th>1</th>\n",
       "      <td>20520.0</td>\n",
       "      <td>25036.085084</td>\n",
       "    </tr>\n",
       "    <tr>\n",
       "      <th>2</th>\n",
       "      <td>36698.0</td>\n",
       "      <td>32551.700731</td>\n",
       "    </tr>\n",
       "    <tr>\n",
       "      <th>3</th>\n",
       "      <td>31592.0</td>\n",
       "      <td>31069.702824</td>\n",
       "    </tr>\n",
       "    <tr>\n",
       "      <th>4</th>\n",
       "      <td>25727.0</td>\n",
       "      <td>26307.207977</td>\n",
       "    </tr>\n",
       "    <tr>\n",
       "      <th>...</th>\n",
       "      <td>...</td>\n",
       "      <td>...</td>\n",
       "    </tr>\n",
       "    <tr>\n",
       "      <th>6496</th>\n",
       "      <td>27480.0</td>\n",
       "      <td>26435.418526</td>\n",
       "    </tr>\n",
       "    <tr>\n",
       "      <th>6497</th>\n",
       "      <td>26022.0</td>\n",
       "      <td>27163.934134</td>\n",
       "    </tr>\n",
       "    <tr>\n",
       "      <th>6498</th>\n",
       "      <td>25566.0</td>\n",
       "      <td>26848.469778</td>\n",
       "    </tr>\n",
       "    <tr>\n",
       "      <th>6499</th>\n",
       "      <td>35328.0</td>\n",
       "      <td>29681.785334</td>\n",
       "    </tr>\n",
       "    <tr>\n",
       "      <th>6500</th>\n",
       "      <td>31348.0</td>\n",
       "      <td>30831.207888</td>\n",
       "    </tr>\n",
       "  </tbody>\n",
       "</table>\n",
       "<p>6501 rows × 2 columns</p>\n",
       "</div>"
      ],
      "text/plain": [
       "       Actual     Predicted\n",
       "0     29116.0  31069.196197\n",
       "1     20520.0  25036.085084\n",
       "2     36698.0  32551.700731\n",
       "3     31592.0  31069.702824\n",
       "4     25727.0  26307.207977\n",
       "...       ...           ...\n",
       "6496  27480.0  26435.418526\n",
       "6497  26022.0  27163.934134\n",
       "6498  25566.0  26848.469778\n",
       "6499  35328.0  29681.785334\n",
       "6500  31348.0  30831.207888\n",
       "\n",
       "[6501 rows x 2 columns]"
      ]
     },
     "execution_count": 24,
     "metadata": {},
     "output_type": "execute_result"
    }
   ],
   "source": [
    "y_pred = regressor.predict(X_test)\n",
    "\n",
    "df = pd.DataFrame({'Actual': y_test, 'Predicted': y_pred})\n",
    "df"
   ]
  },
  {
   "cell_type": "code",
   "execution_count": 26,
   "metadata": {},
   "outputs": [
    {
     "data": {
      "image/png": "[encoded data removed]",
      "text/plain": [
       "<Figure size 432x288 with 1 Axes>"
      ]
     },
     "metadata": {
      "needs_background": "light"
     },
     "output_type": "display_data"
    }
   ],
   "source": [
    "plt.plot(df['Actual'],df['Predicted'], 'ro')\n",
    "plt.grid(True)"
   ]
  },
  {
   "cell_type": "code",
   "execution_count": 25,
   "metadata": {
    "scrolled": true
   },
   "outputs": [
    {
     "name": "stdout",
     "output_type": "stream",
     "text": [
      "Mean Absolute Error: 3045.9355057207713\n",
      "Mean Squared Error: 13743372.997148834\n",
      "Root Mean Squared Error: 3707.205550970816\n",
      "Mean Absolute Percentage Error 10.89172870964402\n"
     ]
    }
   ],
   "source": [
    "print('Mean Absolute Error:', metrics.mean_absolute_error(y_test, y_pred))  \n",
    "print('Mean Squared Error:', metrics.mean_squared_error(y_test, y_pred))  \n",
    "print('Root Mean Squared Error:', np.sqrt(metrics.mean_squared_error(y_test, y_pred)))\n",
    "print('Mean Absolute Percentage Error', mean_absolute_percentage_error(y_test, y_pred))"
   ]
  },
  {
   "cell_type": "markdown",
   "metadata": {},
   "source": [
    "10.89% is the best result using 'day of week', 'hour', 'numth of day in a year', 'temperature', 'humidity' and 'wind_speed' as the feature.\n",
    "It doesn't significantly improved. So as the Mean Squared Error, no significant reduction compare to the simple linear regression."
   ]
  },
  {
   "cell_type": "code",
   "execution_count": null,
   "metadata": {},
   "outputs": [],
   "source": []
  }
 ],
 "metadata": {
  "kernelspec": {
   "display_name": "Python 3",
   "language": "python",
   "name": "python3"
  },
  "language_info": {
   "codemirror_mode": {
    "name": "ipython",
    "version": 3
   },
   "file_extension": ".py",
   "mimetype": "text/x-python",
   "name": "python",
   "nbconvert_exporter": "python",
   "pygments_lexer": "ipython3",
   "version": "3.7.6"
  }
 },
 "nbformat": 4,
 "nbformat_minor": 4
}
